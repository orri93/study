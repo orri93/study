{
 "cells": [
  {
   "cell_type": "code",
   "execution_count": 1,
   "metadata": {},
   "outputs": [],
   "source": [
    "a = 1;\n",
    "hbar = 1;\n",
    "m = 1;\n",
    "n = var('n');\n",
    "x = var('x');\n",
    "t = var('t');\n",
    "\n",
    "En(n) = n^2*pi^2*hbar^2/(2*m*a^2);\n",
    "psi(x,t,n) = sqrt(2/a)*sin(n*pi*x/a)*exp(-i*En(n)*t/hbar);\n",
    "psiStar(x,t,n) = sqrt(2/a)*sin(n*pi*x/a)*exp(i*En(n)*t/hbar);\n",
    "\n",
    "g(x) = sqrt(3/a)*(1-abs(x-a/2)/(a/2));\n",
    "\n",
    "cn(n) = integral(g(x)*psi(x,0,n),x,0,a/2) + integral(g(x)*psi(x,0,n),x,a/2,a);\n",
    "\n",
    "plot(g,0,a,figsize=[5,4]);"
   ]
  },
  {
   "cell_type": "code",
   "execution_count": 2,
   "metadata": {},
   "outputs": [
    {
     "data": {
      "text/plain": [
       "sqrt(3)*sqrt(2)*((pi*n*cos(1/2*pi*n) + 2*sin(1/2*pi*n))/(pi^2*n^2) - 2*sin(pi*n)/(pi^2*n^2)) - sqrt(3)*sqrt(2)*(pi*n*cos(1/2*pi*n) - 2*sin(1/2*pi*n))/(pi^2*n^2)"
      ]
     },
     "execution_count": 2,
     "metadata": {},
     "output_type": "execute_result"
    }
   ],
   "source": [
    "cn(n)"
   ]
  },
  {
   "cell_type": "code",
   "execution_count": null,
   "metadata": {},
   "outputs": [],
   "source": []
  }
 ],
 "metadata": {
  "kernelspec": {
   "display_name": "SageMath 9.3",
   "language": "sage",
   "name": "sagemath"
  },
  "language_info": {
   "codemirror_mode": {
    "name": "ipython",
    "version": 3
   },
   "file_extension": ".py",
   "mimetype": "text/x-python",
   "name": "python",
   "nbconvert_exporter": "python",
   "pygments_lexer": "ipython3",
   "version": "3.7.10"
  }
 },
 "nbformat": 4,
 "nbformat_minor": 4
}
